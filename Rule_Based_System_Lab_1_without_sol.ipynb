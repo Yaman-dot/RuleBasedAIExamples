{
  "nbformat": 4,
  "nbformat_minor": 0,
  "metadata": {
    "colab": {
      "provenance": []
    },
    "kernelspec": {
      "name": "python3",
      "display_name": "Python 3"
    },
    "language_info": {
      "name": "python"
    }
  },
  "cells": [
    {
      "cell_type": "markdown",
      "source": [
        "<br>\n",
        "\n",
        "<center><img src=\"https://www.htu.edu.jo/images/ThumbnailsCoverPhotos/HTU%20Logo-250px.png\" alt=\"HTU\"  width=\"180px\" align=\"center\">\n",
        "\n",
        "<br>\n",
        "<p>\n",
        "School of Computing and Informatics <br>\n",
        "Artificial Intelligence & Intelligent Systems<br>\n",
        "<br>\n",
        "Lab1: Rule-Based System\n",
        "</p></center>"
      ],
      "metadata": {
        "id": "STHBxItrXz10"
      }
    },
    {
      "cell_type": "markdown",
      "source": [
        "# **Scenario: AI-Driven Dynamic Pricing for Online Courses**\n",
        "\n",
        "A company called \"EduSmart\" offers online courses and uses an AI-based pricing system to adjust course fees dynamically based on demand, availability of instructors, and enrollment timing.\n",
        "\n",
        "**Rules for Dynamic Pricing:**\n",
        "\n",
        "1. Early Enrollment Discount: If a student enrolls more than 30 days before the course starts, they get a 20% discount as an incentive for early commitment.\n",
        "\n",
        "2. High Demand Surcharge: If a course has more than 100 students already enrolled, the price increases by 15% due to high demand and limited instructor availability.\n",
        "\n",
        "3. Instructor Availability Adjustment: If the course’s primary instructor is unavailable, but a backup instructor is assigned, a 10% discount is applied to encourage enrollments despite the change.\n",
        "\n",
        "4. Base Course Price: $200"
      ],
      "metadata": {
        "id": "ijt07H57YHn_"
      }
    },
    {
      "cell_type": "markdown",
      "source": [
        "**-----------------------------------------------------------------------------------------------------**\n",
        "\n",
        "**Task:** You are required to implement a Python function named calculate_course_price that dynamically adjusts the price of an online course based on the above main factors.\n",
        "\n",
        "\n",
        "**Input Parameters:**\n",
        "\n",
        "days_before_start (int)\n",
        "\n",
        "enrolled_students (int)\n",
        "\n",
        "primary_instructor_available (bool)\n",
        "\n",
        "**Output:**\n",
        "\n",
        "The function should return the final course price after applying the relevant discount or surcharge.\n",
        "\n",
        "**What You Need to Do:**\n",
        "\n",
        "1. Define the function calculate_course_price with the specified parameters.\n",
        "\n",
        "2. Implement the conditional logic to apply discounts or surcharges based on the rules.\n",
        "\n",
        "3. Ensure the function correctly calculates and returns the final course price."
      ],
      "metadata": {
        "id": "S8cEoiXlZeV1"
      }
    },
    {
      "cell_type": "markdown",
      "source": [
        "**Test Case:**\n",
        "\n",
        "> print(f\"Course price is ${calculate_course_price(40, 50, True)}\")\n",
        "\n",
        "\n"
      ],
      "metadata": {
        "id": "99tAEpGsexWO"
      }
    },
    {
      "cell_type": "code",
      "source": [
        "Discount = 0.90\n",
        "Surcharge = 1.15\n",
        "\n",
        "def calculate_course_price(days_before_Start, enrolled_students, InstructorAvailable = True):\n",
        "  basePrice = 200\n",
        "  global Discount\n",
        "  global Surcharge\n",
        "  if(days_before_Start >= 30):\n",
        "    Discount = 0.80\n",
        "    basePrice=basePrice*Discount\n",
        "  if(enrolled_students>100):\n",
        "    basePrice=basePrice*Surcharge\n",
        "  if(InstructorAvailable == False):\n",
        "    Discount = 0.90\n",
        "    basePrice=basePrice*Discount\n",
        "  return basePrice\n"
      ],
      "metadata": {
        "id": "rA-ppGnvYpCZ"
      },
      "execution_count": 24,
      "outputs": []
    },
    {
      "cell_type": "code",
      "source": [
        "print(f\"Course price is ${calculate_course_price(40, 50, True)}\")"
      ],
      "metadata": {
        "id": "dN22ofSjiwoK",
        "colab": {
          "base_uri": "https://localhost:8080/"
        },
        "outputId": "654f7b92-af7d-4af3-ca23-cf35f4707c5f"
      },
      "execution_count": 26,
      "outputs": [
        {
          "output_type": "stream",
          "name": "stdout",
          "text": [
            "Course price is $160.0\n"
          ]
        }
      ]
    },
    {
      "cell_type": "markdown",
      "source": [
        "# **Scenario: AI-Driven Car Rental Pricing System**\n",
        "\n",
        "A company called \"QuickDrive Rentals\" uses an AI-based pricing system to adjust car rental fees dynamically based on demand, rental duration, and vehicle availability.\n",
        "\n",
        "**Pricing Rules:**\n",
        "1. Long-Term Rental Discount: If a customer books a car for more than 7 days, they receive a 25% discount on the total rental cost.\n",
        "\n",
        "\n",
        "2. High-Demand Surcharge: If more than 80% of the rental fleet is already booked, the rental cost increases by 20% due to limited availability.\n",
        "\n",
        "3. Limited Vehicle Model Discount: If the customer selects a car that is not popular (i.e., demand for it is low), they receive a 15% discount to encourage its rental.\n",
        "\n",
        "\n",
        "4. Base Rental Rate:\n",
        "The base cost for a 1 day rental is $50.\n",
        "The total rental cost is calculated based on the number of days booked.\n",
        "\n",
        "**Task:**\n",
        "Your task is to implement a Python function called calculate_rental_price, which dynamically adjusts the rental price for a car based on the above factors."
      ],
      "metadata": {
        "id": "176ZfEWcdHJb"
      }
    },
    {
      "cell_type": "code",
      "source": [
        "PriceDict = {\n",
        "    1: 0.75,\n",
        "    2: 1.20,\n",
        "    3: 0.85,\n",
        "}\n",
        "def calculate_rental_price(DaysBooked, AlreadyBookedFleet, Demand):\n",
        "  baseCost = 50\n",
        "  if DaysBooked > 7:\n",
        "    baseCost = baseCost*PriceDict.get(1)\n",
        "  if AlreadyBookedFleet > 80:\n",
        "    baseCost = baseCost*PriceDict.get(2)\n",
        "  if Demand == False:\n",
        "    baseCost = baseCost*PriceDict.get(3)\n",
        "  return baseCost*DaysBooked\n",
        "\n",
        "\n"
      ],
      "metadata": {
        "id": "sV52PY29dLHl"
      },
      "execution_count": 32,
      "outputs": []
    },
    {
      "cell_type": "code",
      "source": [
        "print(f\"Rental price is ${calculate_rental_price(10, 50, True)}\")"
      ],
      "metadata": {
        "colab": {
          "base_uri": "https://localhost:8080/"
        },
        "id": "QQ26qDpQepdN",
        "outputId": "6b23a931-d2d4-4f12-caa8-92a84ea5dbf8"
      },
      "execution_count": 33,
      "outputs": [
        {
          "output_type": "stream",
          "name": "stdout",
          "text": [
            "Rental price is $375.0\n"
          ]
        }
      ]
    },
    {
      "cell_type": "markdown",
      "source": [
        "# **Scenario:AI-Powered Flight Ticket Pricing System**\n",
        "\n",
        "An airline company \"SkyFly\" uses an AI-driven ticket pricing system that adjusts flight ticket prices based on seasonality, booking time, passenger category, and destination type. The goal is to optimize revenue while ensuring fair pricing for different traveler groups.\n",
        "\n",
        "1. **Early Booking Discount :** If a passenger books the flight at least 45 days in advance, they receive a 20% discount on the ticket price.\n",
        "\n",
        "2. **Last-Minute Booking Surcharge:** If a passenger books a flight less than 7 days before departure, the price increases by 25% due to high urgency.\n",
        "\n",
        "3. **Passenger Category-Based Discount:**\n",
        "\"Student\": 15% discount\n",
        "\"Senior\" (above 60 years): 10% discount\n",
        "\"Standard\": No discount\n",
        "\n",
        "4. **Destination-Based Adjustment :**  \"International\" flights have a 30% surcharge due to additional taxes.\"Domestic\" flights remain at the base price.\n",
        "\n",
        "5.  **Base price:** 200$\n"
      ],
      "metadata": {
        "id": "_Suh8jrZXEdM"
      }
    },
    {
      "cell_type": "markdown",
      "source": [
        "⏰\n",
        "\n",
        ">  **Test Case:**\n",
        "print(f\"Ticket price is ${calculate_flight_price(500, 50, 'Student', 'Domestic', False)}\")  \n",
        "\n"
      ],
      "metadata": {
        "id": "4eE1ccuIa0TJ"
      }
    },
    {
      "cell_type": "code",
      "source": [
        "PriceDict = {\n",
        "    \"Early\": 0.8,\n",
        "    \"Late\": 1.25,\n",
        "    \"Student\": 0.85,\n",
        "    \"Senior\": 0.9,\n",
        "    \"Standard\": 1,\n",
        "    \"International\":1.30,\n",
        "    \"Domestic\":1\n",
        "}\n",
        "\n",
        "def calculate_flight_price(DaysBooked: int, Age: int, Class: str, Destination: str):\n",
        "  basePrice = 200\n",
        "  if DaysBooked > 45:\n",
        "    basePrice = basePrice*PriceDict.get(\"Early\")\n",
        "  elif DaysBooked < 7:\n",
        "    basePrice = basePrice*PriceDict.get(\"Late\")\n",
        "  if Class == \"Student\" and Age < 60:\n",
        "    basePrice = basePrice*PriceDict.get(\"Student\")\n",
        "  elif Class == \"Senior\" and Age >= 60:\n",
        "    basePrice = basePrice*PriceDict.get(\"Senior\")\n",
        "  if Destination == \"International\":\n",
        "    basePrice = basePrice*PriceDict.get(\"International\")\n",
        "  return basePrice"
      ],
      "metadata": {
        "id": "nd1aGTKzXN9b"
      },
      "execution_count": 42,
      "outputs": []
    },
    {
      "cell_type": "code",
      "source": [
        "print(f\"Ticket price is ${calculate_flight_price(500, 50, 'Student', 'Domestic')}\")"
      ],
      "metadata": {
        "id": "Zs3EHCquiQS5",
        "colab": {
          "base_uri": "https://localhost:8080/"
        },
        "outputId": "4fe6add2-7b43-4ea7-996f-06b22d178ee2"
      },
      "execution_count": 45,
      "outputs": [
        {
          "output_type": "stream",
          "name": "stdout",
          "text": [
            "Ticket price is $136.0\n"
          ]
        }
      ]
    }
  ]
}